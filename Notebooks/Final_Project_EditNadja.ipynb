{
 "cells": [
  {
   "cell_type": "markdown",
   "metadata": {},
   "source": [
    "# Finales Projekt \"Fake News Detection\"\n",
    "\n",
    "* Vorgelegt von: Marc Friz (Matrikelnr), Botan Babath, Nadja Herrmann (40523)\n",
    "* Vorgelegt bei: Dr. Johannes Maucher\n",
    "* Vorgelegt am: 05.01.2021"
   ]
  },
  {
   "cell_type": "markdown",
   "metadata": {},
   "source": [
    "### Inhaltsverzeichnis\n",
    "\n",
    "1. Einleitung / Use Case Scope\n",
    "2. Datenbeschaffung\n",
    "3. Analyse welche Pakete benötigt werden\n",
    "4. Pakete importieren\n",
    "5. Datenbereitstellung\n",
    "6. Datenanalyse - Beschreibung der bereitgestellten Datensätze\n",
    "7. Detaillierte Datenanalyse\n",
    "8. Zusammenfassung und Ausblick\n",
    "9. Literaturverzeichnis"
   ]
  },
  {
   "cell_type": "markdown",
   "metadata": {},
   "source": [
    "### 1. Einleitung\n",
    "\n",
    "Heutzutage werden Nachrichten über unterschiedliche Medien an die Masse verteilt. Ein Medium ist zum Beispiel die sozialen Medien. Einerseits führen der einfache Zugang und die schnelle Verbreitung von Nachrichten dazu, dass viele Menschen die Nachrichten konsumieren. Auf der anderen Seite aber wird  die schnelle Verbreitung von \"Fake News\" begünstigt. Fake News sind Nachrichten von geringer Qualität und mit absichtlich falschen Informationen. Fake News sind aber keine Neuheit. Vor der digitalen Technologie wurden sie hauptsächlich durch Boulevardjournalismus verbreitet (Stein-Smith 2017). Die Verbreitung von Fake News hängt mit der Verfügbarkeit von digitalen Werkzeugen der Massenmedien zusammen (Schade 2019).  \n",
    "\n",
    "Die weite Verbreitung von Fake News kann negative Auswirkungen auf Individuen und die Gesellschaft haben (Shu et al, 2017). Daher ist die Erkennung solcher Nachrichten von hoher Relevanz."
   ]
  },
  {
   "cell_type": "markdown",
   "metadata": {},
   "source": [
    "#### 1.1 Problemstellung und Ziel der Arbeit\n",
    "\n",
    "Die Folgen von Fake News können von bloßem Ärgernis bis hin zur Beeinflussung und Irreführung von Gesellschaften oder sogar Nationen reichen. \n",
    "Es gibt eine Vielzahl von Ansätzen, um Fake News zu identifizieren. Durch die Durchführung einer Literaturrecherche identifizieren wir verfügbare manuelle Ansätze zur Identifizierung von Fake News und wie diese Ansätze in verschiedenen Situationen angewendet werden können.\n",
    "In diesem Projekt werden wir die Hauptprobleme bei der Erkennung von Fake News analysieren und diskutieren. Wir werden mittels statistischen Methoden Fake News untersuchen und diese mit richtigen Nachrichten vergleichen. Mit den Ergebnissen der Analyse werden wir die manuelle Vorgehensweise zur Erkennung der Fake News bewerten. \n",
    "\n",
    "Es fehlt die Problemstellung!\n",
    "\n",
    "Quellen:\n",
    "\n",
    "https://www.ncbi.nlm.nih.gov/pmc/articles/PMC7250114/#:~:text=Some%20approaches%20detect%20fake%20news,story%20spread%20(Macaulay%202018).\n",
    "\n",
    "Kai Shu, Amy Sliva, Suhang Wang, Jiliang Tang and Huan Liu (2017).\n",
    "Fake News Detection on Social Media: A Data Mining Perspective.\n",
    "https://dl.acm.org/doi/10.1145/3137597.3137600"
   ]
  },
  {
   "cell_type": "markdown",
   "metadata": {},
   "source": [
    "#### 1.2 Aufbau der Arbeit\n",
    "\n",
    "Diese Arbeit befasst sich im ersten Teil mit...."
   ]
  },
  {
   "cell_type": "markdown",
   "metadata": {},
   "source": [
    "#### 1.3 Literaturrecherche\n",
    "\n",
    "Der Zweck dieser Arbeit ist es, Ansätze zur Identifizierung von Fake News zu betrachten. Dazu wurde eine Literaturrecherche durchgeführt. In diesem Abschnitt werden die verwendeten Suchbegriffe vorgestellt.\n",
    "\n",
    "##### Suchbegriffe\n",
    "\n",
    "* 'Fake News', 'Was sind Fake News', 'Synonyme für Fake News', 'Problemstellung Fake News', 'Auswirkungen und Folgen von Fake News'\n",
    "\n",
    "* 'Fake News Detection', 'Approaches to identify Fake News', 'Approaches to identify missleaded News', 'Finding Fake News', 'Identify Fake News'"
   ]
  },
  {
   "cell_type": "markdown",
   "metadata": {},
   "source": [
    "### 2. Datenbeschaffung\n",
    "\n",
    "Wir beziehen uns in unserem Projekt auf Datensätze von Kaggle und Statista. Diese Datensätze enthalten Nachrichten von amerikanischen Nachrichtensendern. Ebenso enthalten die Datensätze Fake Nachrichten. Was beinhalten die Daten und wie sieht die Struktur aus? Die Quellen sind wie folgt."
   ]
  },
  {
   "cell_type": "markdown",
   "metadata": {},
   "source": [
    "### 3. Analyse welche Pakete benötigt werden\n",
    "\n",
    "Welche Pakete werden benötigt um das in Abschnitt X.X definierte Ziel zu erreichen.\n",
    "\n",
    "- Pandas provides high-performance, easy-to-use data structures and data analysis tools for Python. It's main datastructure is the numpy-array-based dataframe, which is comparable to dataframes in R. Actually, with Pandas Python provides similar functionality as R. The Pandas Website states it as follows: Python has long been great for data munging and preparation, but less so for data analysis and modeling. pandas helps fill this gap, enabling you to carry out your entire data analysis workflow in Python without having to switch to a more domain specific language like R\n",
    "\n",
    "- NumPy is the fundamental package for scientific calculation in Python. It provides a multi-dimensional datastructure, the numpy-array, and many efficiently implemented functions for numerical calculations. Many other important libraries for scientific calculation and data analysis are based on Numpy.\n",
    "\n",
    "- Scipy is based on and extends the functionality of numpy with packages for linear algebra, integration, optimisation, signal processing, statistics and much more. Python with Numpy, Scipy and Matplotlib constitutes a comprehensive tool for scientific calculations of all types. This bunch provides functionality comparable with the commercial tool Matlab\n",
    "\n",
    "- Matplotlib is a Python 2D plotting library which produces publication quality figures in a variety of hardcopy formats and interactive environments across platforms. Matplotlib can be used in Python scripts, the Python and IPython shell, the jupyter notebook, web application servers, and for graphical user interface toolkits.\n",
    "\n",
    "Visualisation:\n",
    "\n",
    "- Bokeh is an interactive visualization library for Python that enables beautiful and meaningful visual presentation of data in modern web browsers. With Bokeh, you can quickly and easily create interactive plots, dashboards, and data applications."
   ]
  },
  {
   "cell_type": "markdown",
   "metadata": {},
   "source": [
    "### 4. Pakete importieren"
   ]
  },
  {
   "cell_type": "code",
   "execution_count": 2,
   "metadata": {},
   "outputs": [],
   "source": [
    "import numpy as np\n",
    "import pandas as pd\n",
    "import re\n",
    "\n",
    "from xml.dom import minidom\n",
    "from os import listdir\n",
    "from os.path import isfile, join"
   ]
  },
  {
   "cell_type": "markdown",
   "metadata": {},
   "source": [
    "### 5. Datenbereitstellung\n",
    "#### 5.1 Nadja"
   ]
  },
  {
   "cell_type": "markdown",
   "metadata": {},
   "source": [
    "Die extrahierten Daten werden in dem Basis Format in JupyterNotebook geladen."
   ]
  },
  {
   "cell_type": "code",
   "execution_count": 4,
   "metadata": {},
   "outputs": [],
   "source": [
    "# news = pd.read_csv(\"../DataSet/news_dataset.csv\", encoding=\"latin-1\")\n",
    "#news"
   ]
  },
  {
   "cell_type": "code",
   "execution_count": null,
   "metadata": {},
   "outputs": [],
   "source": [
    "news.shape"
   ]
  },
  {
   "cell_type": "code",
   "execution_count": null,
   "metadata": {},
   "outputs": [],
   "source": [
    "news.columns"
   ]
  },
  {
   "cell_type": "markdown",
   "metadata": {},
   "source": [
    "#### Umbenennung der Spaltenbezeichnung zur Vereinheitlichung der Basisdaten. \n",
    "\n",
    "Zielformat CSV mit Spaltenbezeichnung: Title, text, source, veracity"
   ]
  },
  {
   "cell_type": "code",
   "execution_count": null,
   "metadata": {
    "scrolled": true
   },
   "outputs": [],
   "source": [
    "dfnews=news.rename(columns={'content':'text','publication':'source','label':'veracity'})\n",
    "dfnews.head()"
   ]
  },
  {
   "cell_type": "markdown",
   "metadata": {},
   "source": [
    "Umbenennung der Werte Fake und Real in False und True."
   ]
  },
  {
   "cell_type": "code",
   "execution_count": null,
   "metadata": {
    "scrolled": true
   },
   "outputs": [],
   "source": [
    "dfnews.loc[dfnews['veracity']== 'fake','veracity']='false'\n",
    "dfnews.loc[dfnews['veracity']== 'real','veracity']='true'\n",
    "dfnews.head()"
   ]
  },
  {
   "cell_type": "markdown",
   "metadata": {},
   "source": [
    "Erstellung eines DataFrames mit den Spalten Title, Text, Source und Veracity."
   ]
  },
  {
   "cell_type": "code",
   "execution_count": null,
   "metadata": {
    "scrolled": true
   },
   "outputs": [],
   "source": [
    "dfnewsfinal=dfnews[['title','text','source','veracity']]\n",
    "dfnewsfinal.head()"
   ]
  },
  {
   "cell_type": "markdown",
   "metadata": {},
   "source": [
    "Bereitstellung und Zusammenführung mit den Daten von Botan und Marc."
   ]
  },
  {
   "cell_type": "markdown",
   "metadata": {},
   "source": [
    "#### 5.2 Marc"
   ]
  },
  {
   "cell_type": "code",
   "execution_count": null,
   "metadata": {},
   "outputs": [],
   "source": [
    "data_path = '../DataSet/BuzzFeed_Corpus_2016/articles/'\n",
    "\n",
    "all_files = [f for f in listdir(data_path) if isfile(join(data_path, f))]"
   ]
  },
  {
   "cell_type": "code",
   "execution_count": null,
   "metadata": {},
   "outputs": [],
   "source": [
    "def get_xml_tags(path):\n",
    "    doc = minidom.parse(path)\n",
    "    # Title\n",
    "    try:\n",
    "        title = (doc.getElementsByTagName('title')[0].firstChild.data)\n",
    "    except:\n",
    "        title = ''\n",
    "        \n",
    "    # Text\n",
    "    try:\n",
    "        text = (doc.getElementsByTagName('mainText')[0].firstChild.data)\n",
    "    except:\n",
    "        text = ''\n",
    "        \n",
    "    # quelle\n",
    "    try:\n",
    "        source = (doc.getElementsByTagName('uri')[0].firstChild.data)\n",
    "    except:\n",
    "        source = ''\n",
    "        \n",
    "    # veracity\n",
    "    try:\n",
    "        veracity = (doc.getElementsByTagName('veracity')[0].firstChild.data)\n",
    "    except:\n",
    "        veracity = ''\n",
    "    \n",
    "    return title, text, source, veracity    "
   ]
  },
  {
   "cell_type": "code",
   "execution_count": null,
   "metadata": {},
   "outputs": [],
   "source": [
    "l_title = []\n",
    "l_text = []\n",
    "l_quelle = []\n",
    "l_veracity = []\n",
    "\n",
    "for i in all_files:\n",
    "    title, text, source, veracity = get_xml_tags(data_path + i)\n",
    "    l_title.append(title)\n",
    "    l_text.append(text)\n",
    "    l_quelle.append(source)\n",
    "    l_veracity.append(veracity)"
   ]
  },
  {
   "cell_type": "code",
   "execution_count": null,
   "metadata": {},
   "outputs": [],
   "source": [
    "df = pd.DataFrame(list(zip(l_title, l_text, l_quelle, l_veracity)), columns =['title', 'text', 'source', 'veracity']) \n",
    "df.head()"
   ]
  },
  {
   "cell_type": "code",
   "execution_count": null,
   "metadata": {},
   "outputs": [],
   "source": [
    "def set_veracity(verasity):\n",
    "    if verasity.find('false') >= 0:\n",
    "        return 'false'\n",
    "    elif verasity.find('true') >= 0:\n",
    "        return 'true'\n",
    "    else:\n",
    "        return ''"
   ]
  },
  {
   "cell_type": "code",
   "execution_count": null,
   "metadata": {},
   "outputs": [],
   "source": [
    "df['veracity'] = df['veracity'].apply(set_veracity)\n",
    "df.head()"
   ]
  },
  {
   "cell_type": "markdown",
   "metadata": {},
   "source": [
    "#### 5.3 Botan"
   ]
  },
  {
   "cell_type": "markdown",
   "metadata": {},
   "source": [
    "#### Description\n",
    "\n",
    "This dataset is from Kaggle. The Owner of the DataSet is Clément Bisaillon\n",
    "\n",
    "https://www.kaggle.com/clmentbisaillon/fake-and-real-news-dataset/metadata\n",
    "\n",
    "The dataset contains two types of articles fake and real News. This dataset was collected from real- world sources; the truthful articles were obtained by crawling articles from Reuters.com (News website). As for the fake news articles, they were collected from different sources. The fake news articles were collected from unreliable websites that were flagged by Politifact (a fact-checking organization in the USA) and Wikipedia. The dataset contains different types of articles on different topics, however, the majority of articles focus on political and World news topics.\n",
    "\n",
    "Read more: \n",
    "\n",
    "https://www.uvic.ca/engineering/ece/isot/assets/docs/ISOT_Fake_News_Dataset_ReadMe.pdf"
   ]
  },
  {
   "cell_type": "code",
   "execution_count": null,
   "metadata": {},
   "outputs": [],
   "source": [
    "rawData_true= pd.read_csv (\"../DataSet/Kaggle/True.csv\")\n",
    "rawData_true.head()"
   ]
  },
  {
   "cell_type": "code",
   "execution_count": null,
   "metadata": {},
   "outputs": [],
   "source": [
    "rawData_true.info()"
   ]
  },
  {
   "cell_type": "markdown",
   "metadata": {},
   "source": [
    "#### Erweiterung des Dateframes um Spalte \"veracitiy\" "
   ]
  },
  {
   "cell_type": "code",
   "execution_count": null,
   "metadata": {},
   "outputs": [],
   "source": [
    "prepData_true= rawData_true\n",
    "prepData_true[\"veracity\"]= \"true\"\n",
    "prepData_true.head()"
   ]
  },
  {
   "cell_type": "markdown",
   "metadata": {},
   "source": [
    "#### Erweiterung des Dateframes um Spalte \"source\" "
   ]
  },
  {
   "cell_type": "code",
   "execution_count": null,
   "metadata": {},
   "outputs": [],
   "source": [
    "prepData_true[\"source\"]= \"\"\n",
    "prepData_true= prepData_true[['title','text','source','veracity','subject','date']]"
   ]
  },
  {
   "cell_type": "markdown",
   "metadata": {},
   "source": [
    "#### Extrahierung der Quellenangabe aus Spalte Text mithilfe von Regex"
   ]
  },
  {
   "cell_type": "code",
   "execution_count": null,
   "metadata": {},
   "outputs": [],
   "source": [
    "match=0\n",
    "nomatch= 0\n",
    "rownumber= 0\n",
    "findrows_nomatch = []\n",
    "for index, row in prepData_true.iterrows():\n",
    "    if \"(Reuters)\" in row.text: # Sucht nach \"Reuters\" im Text\n",
    "        if \" - \" in row.text: # Trennung an der Stelle \"-\" in Quelle und Text \n",
    "            regex = r\" - \" \n",
    "            source = re.split(regex,row.text)[0] # Quelle \n",
    "            text = re.split(regex,row.text)[1]  # Text \n",
    "            row.source = source \n",
    "            row.text = text\n",
    "            match= match + 1\n",
    "    else:\n",
    "        nomatch= nomatch +1 \n",
    "        findrows_nomatch.append(rownumber)\n",
    "   \n",
    "    rownumber= rownumber + 1"
   ]
  },
  {
   "cell_type": "markdown",
   "metadata": {},
   "source": [
    "#### Extract news only from the Reuters source"
   ]
  },
  {
   "cell_type": "code",
   "execution_count": null,
   "metadata": {},
   "outputs": [],
   "source": [
    "prepData_true_1 = prepData_true.drop(findrows_nomatch)\n",
    "prepData_true_1 = prepData_true_1.loc[prepData_true_1['subject'] == \"politicsNews\"]"
   ]
  },
  {
   "cell_type": "code",
   "execution_count": null,
   "metadata": {},
   "outputs": [],
   "source": [
    "prepData_true_1.head()"
   ]
  },
  {
   "cell_type": "code",
   "execution_count": null,
   "metadata": {},
   "outputs": [],
   "source": [
    "rawData_false= pd.read_csv (\"../DataSet/Kaggle/Fake.csv\")\n",
    "rawData_false.head()"
   ]
  },
  {
   "cell_type": "code",
   "execution_count": null,
   "metadata": {},
   "outputs": [],
   "source": [
    "prepData_false= rawData_false\n",
    "prepData_false[\"veracity\"]= \"false\"\n",
    "prepData_false.head()"
   ]
  },
  {
   "cell_type": "code",
   "execution_count": null,
   "metadata": {},
   "outputs": [],
   "source": [
    "prepData_false[\"source\"]= \"\"\n",
    "prepData_false= prepData_false[['title','text','source','veracity','subject','date']]\n",
    "prepData_false.head()"
   ]
  },
  {
   "cell_type": "markdown",
   "metadata": {},
   "source": [
    "#### 5.4 Merge"
   ]
  },
  {
   "cell_type": "code",
   "execution_count": null,
   "metadata": {},
   "outputs": [],
   "source": [
    "dfnewsfinal['set'] = 'nadja'\n",
    "df['set'] = 'marc'\n",
    "prepData_true_1['set'] = 'botan'\n",
    "prepData_false['set'] = 'botan'"
   ]
  },
  {
   "cell_type": "code",
   "execution_count": null,
   "metadata": {},
   "outputs": [],
   "source": [
    "end_df = df.append(dfnewsfinal)\n",
    "end_df = end_df.append(prepData_true_1)\n",
    "end_df = end_df.append(prepData_false)\n",
    "end_df"
   ]
  },
  {
   "cell_type": "markdown",
   "metadata": {},
   "source": [
    "#### 5.5 Save"
   ]
  },
  {
   "cell_type": "code",
   "execution_count": null,
   "metadata": {},
   "outputs": [],
   "source": [
    "end_df.to_csv('../DataSet/complete_dataset.csv')"
   ]
  },
  {
   "cell_type": "markdown",
   "metadata": {},
   "source": [
    "### 6. Datenanalyse"
   ]
  },
  {
   "cell_type": "markdown",
   "metadata": {},
   "source": [
    "#### 6.1 Datenbereitstellung\n"
   ]
  },
  {
   "cell_type": "markdown",
   "metadata": {},
   "source": [
    "Die zusammengefassten Daten aus Abschnitt 5 werden zur weiteren Betrachtung in einem Dataframe bereitgestellt."
   ]
  },
  {
   "cell_type": "code",
   "execution_count": 7,
   "metadata": {
    "scrolled": true
   },
   "outputs": [],
   "source": [
    "newscompletedataset = pd.read_csv(\"complete_dataset.csv\", encoding=\"latin-1\")"
   ]
  },
  {
   "cell_type": "markdown",
   "metadata": {},
   "source": [
    "#### 6.2 Beschreibung der bereitgestellten Datensätze"
   ]
  },
  {
   "cell_type": "code",
   "execution_count": 87,
   "metadata": {
    "scrolled": false
   },
   "outputs": [
    {
     "name": "stdout",
     "output_type": "stream",
     "text": [
      "<class 'pandas.core.frame.DataFrame'>\n",
      "RangeIndex: 64935 entries, 0 to 64934\n",
      "Data columns (total 8 columns):\n",
      " #   Column      Non-Null Count  Dtype \n",
      "---  ------      --------------  ----- \n",
      " 0   Unnamed: 0  64935 non-null  int64 \n",
      " 1   title       64224 non-null  object\n",
      " 2   text        64866 non-null  object\n",
      " 3   source      41454 non-null  object\n",
      " 4   veracity    64871 non-null  object\n",
      " 5   set         64935 non-null  object\n",
      " 6   subject     34597 non-null  object\n",
      " 7   date        34597 non-null  object\n",
      "dtypes: int64(1), object(7)\n",
      "memory usage: 4.0+ MB\n"
     ]
    }
   ],
   "source": [
    "newscompletedataset.info()"
   ]
  },
  {
   "cell_type": "markdown",
   "metadata": {},
   "source": [
    "Der Datensatz \"newscompletedataset\" besteht aus 64934 Zeilen und 8 Spalten."
   ]
  },
  {
   "cell_type": "code",
   "execution_count": 88,
   "metadata": {
    "scrolled": false
   },
   "outputs": [
    {
     "data": {
      "text/html": [
       "<div>\n",
       "<style scoped>\n",
       "    .dataframe tbody tr th:only-of-type {\n",
       "        vertical-align: middle;\n",
       "    }\n",
       "\n",
       "    .dataframe tbody tr th {\n",
       "        vertical-align: top;\n",
       "    }\n",
       "\n",
       "    .dataframe thead th {\n",
       "        text-align: right;\n",
       "    }\n",
       "</style>\n",
       "<table border=\"1\" class=\"dataframe\">\n",
       "  <thead>\n",
       "    <tr style=\"text-align: right;\">\n",
       "      <th></th>\n",
       "      <th>Unnamed: 0</th>\n",
       "      <th>title</th>\n",
       "      <th>text</th>\n",
       "      <th>source</th>\n",
       "      <th>veracity</th>\n",
       "      <th>set</th>\n",
       "      <th>subject</th>\n",
       "      <th>date</th>\n",
       "    </tr>\n",
       "  </thead>\n",
       "  <tbody>\n",
       "    <tr>\n",
       "      <th>0</th>\n",
       "      <td>0</td>\n",
       "      <td>The Impact of Debates? It's Debatable</td>\n",
       "      <td>With the Hillary Clinton-Donald Trump debates ...</td>\n",
       "      <td>http://abcnews.go.com/Politics/impact-debates-...</td>\n",
       "      <td>True</td>\n",
       "      <td>marc</td>\n",
       "      <td>NaN</td>\n",
       "      <td>NaN</td>\n",
       "    </tr>\n",
       "    <tr>\n",
       "      <th>1</th>\n",
       "      <td>1</td>\n",
       "      <td>Details Emerge About NYC Bomb Suspect Ahmad Kh...</td>\n",
       "      <td>As police today captured the man wanted for qu...</td>\n",
       "      <td>http://abcnews.go.com/US/source-suspect-wanted...</td>\n",
       "      <td>True</td>\n",
       "      <td>marc</td>\n",
       "      <td>NaN</td>\n",
       "      <td>NaN</td>\n",
       "    </tr>\n",
       "    <tr>\n",
       "      <th>2</th>\n",
       "      <td>2</td>\n",
       "      <td>Donald Trump Repeats Calls for Police Profilin...</td>\n",
       "      <td>One day after explosive devices were discovere...</td>\n",
       "      <td>http://abcnews.go.com/Politics/donald-trump-re...</td>\n",
       "      <td>True</td>\n",
       "      <td>marc</td>\n",
       "      <td>NaN</td>\n",
       "      <td>NaN</td>\n",
       "    </tr>\n",
       "    <tr>\n",
       "      <th>3</th>\n",
       "      <td>3</td>\n",
       "      <td>NY, NJ Bombings Suspect Charged With Attempted...</td>\n",
       "      <td>Ahmad Khan Rahami, earlier named a person of i...</td>\n",
       "      <td>http://abcnews.go.com/US/bombing-incidences-ny...</td>\n",
       "      <td>True</td>\n",
       "      <td>marc</td>\n",
       "      <td>NaN</td>\n",
       "      <td>NaN</td>\n",
       "    </tr>\n",
       "    <tr>\n",
       "      <th>4</th>\n",
       "      <td>4</td>\n",
       "      <td>Trump Surrogates Push Narrative That Clinton S...</td>\n",
       "      <td>Donald Trump's surrogates and leading supporte...</td>\n",
       "      <td>http://abcnews.go.com/Politics/trump-surrogate...</td>\n",
       "      <td>True</td>\n",
       "      <td>marc</td>\n",
       "      <td>NaN</td>\n",
       "      <td>NaN</td>\n",
       "    </tr>\n",
       "  </tbody>\n",
       "</table>\n",
       "</div>"
      ],
      "text/plain": [
       "   Unnamed: 0                                              title  \\\n",
       "0           0              The Impact of Debates? It's Debatable   \n",
       "1           1  Details Emerge About NYC Bomb Suspect Ahmad Kh...   \n",
       "2           2  Donald Trump Repeats Calls for Police Profilin...   \n",
       "3           3  NY, NJ Bombings Suspect Charged With Attempted...   \n",
       "4           4  Trump Surrogates Push Narrative That Clinton S...   \n",
       "\n",
       "                                                text  \\\n",
       "0  With the Hillary Clinton-Donald Trump debates ...   \n",
       "1  As police today captured the man wanted for qu...   \n",
       "2  One day after explosive devices were discovere...   \n",
       "3  Ahmad Khan Rahami, earlier named a person of i...   \n",
       "4  Donald Trump's surrogates and leading supporte...   \n",
       "\n",
       "                                              source veracity   set subject  \\\n",
       "0  http://abcnews.go.com/Politics/impact-debates-...     True  marc     NaN   \n",
       "1  http://abcnews.go.com/US/source-suspect-wanted...     True  marc     NaN   \n",
       "2  http://abcnews.go.com/Politics/donald-trump-re...     True  marc     NaN   \n",
       "3  http://abcnews.go.com/US/bombing-incidences-ny...     True  marc     NaN   \n",
       "4  http://abcnews.go.com/Politics/trump-surrogate...     True  marc     NaN   \n",
       "\n",
       "  date  \n",
       "0  NaN  \n",
       "1  NaN  \n",
       "2  NaN  \n",
       "3  NaN  \n",
       "4  NaN  "
      ]
     },
     "execution_count": 88,
     "metadata": {},
     "output_type": "execute_result"
    }
   ],
   "source": [
    "newscompletedataset.head()"
   ]
  },
  {
   "cell_type": "markdown",
   "metadata": {},
   "source": [
    "Im folgenden Schritt wird die Verteilung der Klassen betrachtet. In dem Datensatz \"newscompletedataset\" sind die True und False Werte nahezu gleichverteilt. "
   ]
  },
  {
   "cell_type": "code",
   "execution_count": 127,
   "metadata": {
    "scrolled": false
   },
   "outputs": [
    {
     "data": {
      "text/plain": [
       "Text(0.5, 0, 'Veracity')"
      ]
     },
     "execution_count": 127,
     "metadata": {},
     "output_type": "execute_result"
    },
    {
     "data": {
      "image/png": "[encoded data removed]",
      "text/plain": [
       "<Figure size 432x288 with 1 Axes>"
      ]
     },
     "metadata": {},
     "output_type": "display_data"
    }
   ],
   "source": [
    "import seaborn as sns\n",
    "sns.set_style('white')\n",
    "sns.countplot(newscompletedataset['veracity'])\n",
    "plt.title('Verteilung der Fake vs. Real News')\n",
    "plt.ylabel('Häufigkeit')\n",
    "plt.xlabel('Veracity')"
   ]
  },
  {
   "cell_type": "code",
   "execution_count": 96,
   "metadata": {
    "scrolled": true
   },
   "outputs": [
    {
     "data": {
      "text/plain": [
       "Unnamed: 0        0\n",
       "title           711\n",
       "text             69\n",
       "source        23481\n",
       "veracity         64\n",
       "set               0\n",
       "subject       30338\n",
       "date          30338\n",
       "dtype: int64"
      ]
     },
     "execution_count": 96,
     "metadata": {},
     "output_type": "execute_result"
    }
   ],
   "source": [
    "newscompletedataset.isnull().sum()"
   ]
  },
  {
   "cell_type": "code",
   "execution_count": 121,
   "metadata": {},
   "outputs": [
    {
     "data": {
      "text/plain": [
       "Text(0.5, 0, 'Subject')"
      ]
     },
     "execution_count": 121,
     "metadata": {},
     "output_type": "execute_result"
    },
    {
     "data": {
      "image/png": "[encoded data removed]",
      "text/plain": [
       "<Figure size 720x720 with 1 Axes>"
      ]
     },
     "metadata": {},
     "output_type": "display_data"
    }
   ],
   "source": [
    "newscompletedataset['subject'].value_counts()\n",
    "plt.figure(figsize = (10,10))\n",
    "sns.set_style('white')\n",
    "sns.countplot(newscompletedataset['subject'])\n",
    "plt.title('Verteilung der unterschiedlichen Nachrichtenthemen')\n",
    "plt.ylabel('Häufigkeit')\n",
    "plt.xlabel('Subject')"
   ]
  },
  {
   "cell_type": "markdown",
   "metadata": {},
   "source": [
    "Es gibt Nachrichten zu 7 Themen. Die größte Anzahl von Nachrichten stammen aus politicsNews. "
   ]
  },
  {
   "cell_type": "markdown",
   "metadata": {},
   "source": [
    "#### 6.3 Datenbereinigung und Vorbereitung"
   ]
  },
  {
   "cell_type": "markdown",
   "metadata": {},
   "source": [
    "Um in der weiteren Analyse die richtigen Nachrichten mit den Fake Nachrichten vergleichen zu können, wird der Datensatz in True und False aufgeteilt."
   ]
  },
  {
   "cell_type": "code",
   "execution_count": 8,
   "metadata": {},
   "outputs": [
    {
     "data": {
      "text/plain": [
       "False"
      ]
     },
     "execution_count": 8,
     "metadata": {},
     "output_type": "execute_result"
    }
   ],
   "source": [
    "String_False=newscompletedataset['veracity'][64934]\n",
    "String_False"
   ]
  },
  {
   "cell_type": "code",
   "execution_count": 9,
   "metadata": {},
   "outputs": [
    {
     "data": {
      "text/plain": [
       "True"
      ]
     },
     "execution_count": 9,
     "metadata": {},
     "output_type": "execute_result"
    }
   ],
   "source": [
    "String_True=newscompletedataset['veracity'][30338]\n",
    "String_True"
   ]
  },
  {
   "cell_type": "code",
   "execution_count": 10,
   "metadata": {},
   "outputs": [],
   "source": [
    "newscompletedataset_True=newscompletedataset.loc[newscompletedataset['veracity']==String_True]"
   ]
  },
  {
   "cell_type": "code",
   "execution_count": 13,
   "metadata": {},
   "outputs": [],
   "source": [
    "newscompletedataset_False=newscompletedataset.loc[newscompletedataset['veracity']==String_False]"
   ]
  },
  {
   "cell_type": "code",
   "execution_count": 124,
   "metadata": {},
   "outputs": [
    {
     "name": "stderr",
     "output_type": "stream",
     "text": [
      "[nltk_data] Downloading package stopwords to\n",
      "[nltk_data]     C:\\Users\\nadja\\AppData\\Roaming\\nltk_data...\n",
      "[nltk_data]   Package stopwords is already up-to-date!\n",
      "[nltk_data] Downloading package wordnet to\n",
      "[nltk_data]     C:\\Users\\nadja\\AppData\\Roaming\\nltk_data...\n",
      "[nltk_data]   Package wordnet is already up-to-date!\n"
     ]
    }
   ],
   "source": [
    "import re\n",
    "import unicodedata\n",
    "import nltk\n",
    "from nltk.corpus import stopwords\n",
    "nltk.download('stopwords')\n",
    "nltk.download('wordnet')\n",
    "ADDITIONAL_STOPWORDS = ['test']\n",
    "\n",
    "import matplotlib.pyplot as plt"
   ]
  },
  {
   "cell_type": "code",
   "execution_count": 128,
   "metadata": {},
   "outputs": [],
   "source": [
    "def basic_clean(text):\n",
    "  wnl = nltk.stem.WordNetLemmatizer()\n",
    "  stopwords = nltk.corpus.stopwords.words('english') + ADDITIONAL_STOPWORDS\n",
    "  text = (unicodedata.normalize('NFKD', text)\n",
    "    .lower())\n",
    "  words = re.sub(r'[^\\w\\s]', '', text).split()\n",
    "  return [wnl.lemmatize(word) for word in words if word not in stopwords]"
   ]
  },
  {
   "cell_type": "code",
   "execution_count": 131,
   "metadata": {},
   "outputs": [],
   "source": [
    "words_true = basic_clean(''.join(str(newscompletedataset_True['text'].tolist())))"
   ]
  },
  {
   "cell_type": "code",
   "execution_count": 32,
   "metadata": {},
   "outputs": [],
   "source": [
    "words_false = basic_clean(''.join(str(newscompletedataset_False['text'].tolist())))"
   ]
  },
  {
   "cell_type": "code",
   "execution_count": 133,
   "metadata": {},
   "outputs": [
    {
     "data": {
      "text/plain": [
       "['hillary',\n",
       " 'clintondonald',\n",
       " 'trump',\n",
       " 'debate',\n",
       " 'upon',\n",
       " 'u',\n",
       " 'quadrennial',\n",
       " 'question',\n",
       " 'come',\n",
       " 'begging']"
      ]
     },
     "execution_count": 133,
     "metadata": {},
     "output_type": "execute_result"
    }
   ],
   "source": [
    "words_true[:10]"
   ]
  },
  {
   "cell_type": "markdown",
   "metadata": {},
   "source": [
    "#### 6.3 Worthäufigkeiten\n",
    "\n",
    "Wordcloud, um die häufigsten Wörter in unseren Daten zu analysieren\n",
    "\n",
    "https://medium.com/analytics-vidhya/fake-news-detection-using-nlp-techniques-c2dc4be05f99"
   ]
  },
  {
   "cell_type": "markdown",
   "metadata": {},
   "source": [
    "#### 6.4 N-Gramm Ranking\n",
    "\n",
    "Ein n-Gramm ist eine Folge von n Wörtern, wobei n eine diskrete Zahl ist, die von 1 bis unendlich reichen kann. Zum Beispiel ist das Wort \"Baum\" ein 1-Gramm (Unigramm). Die Kombination der Wörter \"mit Baum\" ist ein 2-Gramm (Bigram). Ähnlich ist \"Sorte eines Baums\" ein 3-Gramm (Trigramm).\n",
    "\n",
    "Beim N-Gramm-Ranking werden die N-Gramme danach geordnet, wie oft sie in der Sammlung der Fake Nachrichten und True Nachrichten vorkommen.\n"
   ]
  },
  {
   "cell_type": "code",
   "execution_count": 75,
   "metadata": {},
   "outputs": [],
   "source": [
    "twograms_true=(pd.Series(nltk.ngrams(words_true,2)).value_counts())[:10]\n",
    "trigrams_true=(pd.Series(nltk.ngrams(words_true,3)).value_counts())[:10]\n",
    "twograms_false=(pd.Series(nltk.ngrams(words_false,2)).value_counts())[:10]\n",
    "trigrams_false=(pd.Series(nltk.ngrams(words_false,3)).value_counts())[:10]"
   ]
  },
  {
   "cell_type": "code",
   "execution_count": 116,
   "metadata": {
    "scrolled": true
   },
   "outputs": [
    {
     "data": {
      "text/plain": [
       "Text(0.5, 0, 'Häufigkeit')"
      ]
     },
     "execution_count": 116,
     "metadata": {},
     "output_type": "execute_result"
    },
    {
     "data": {
      "image/png": "[encoded data removed]",
      "text/plain": [
       "<Figure size 1008x720 with 2 Axes>"
      ]
     },
     "metadata": {},
     "output_type": "display_data"
    }
   ],
   "source": [
    "plt.figure(figsize=(30,20))\n",
    "sns.set_style('white')\n",
    "\n",
    "plt.subplot(2,2,1)\n",
    "twograms_true.sort_values().plot.barh(color='green', width=.7, figsize=(14, 10))\n",
    "plt.title('10 meist vorkommenden 2 grams')\n",
    "plt.ylabel('2 gram')\n",
    "plt.xlabel('Häufigkeit')\n",
    "\n",
    "plt.subplot(2,2,3)\n",
    "twograms_false.sort_values().plot.barh(color='red', width=.7, figsize=(14, 10))\n",
    "plt.title('10 meist vorkommenden 2 grams \"fake news\"')\n",
    "plt.ylabel('2 gram')\n",
    "plt.xlabel('Häufigkeit')"
   ]
  },
  {
   "cell_type": "code",
   "execution_count": 117,
   "metadata": {},
   "outputs": [
    {
     "data": {
      "text/plain": [
       "Text(0.5, 0, 'Häufigkeit')"
      ]
     },
     "execution_count": 117,
     "metadata": {},
     "output_type": "execute_result"
    },
    {
     "data": {
      "image/png": "[encoded data removed]",
      "text/plain": [
       "<Figure size 1008x720 with 2 Axes>"
      ]
     },
     "metadata": {},
     "output_type": "display_data"
    }
   ],
   "source": [
    "plt.figure(figsize=(30,20))\n",
    "sns.set_style('white')\n",
    "\n",
    "plt.subplot(2,2,1)\n",
    "trigrams_true.sort_values().plot.barh(color='green', width=.7, figsize=(14, 10))\n",
    "plt.title('10 meist vorkommenden 3 grams')\n",
    "plt.ylabel('3 gram')\n",
    "plt.xlabel('Häufigkeit')\n",
    "\n",
    "plt.subplot(2,2,3)\n",
    "trigrams_false.sort_values().plot.barh(color='red', width=.7, figsize=(14, 10))\n",
    "plt.title('10 meist vorkommenden 3 grams \"fake news\"')\n",
    "plt.ylabel('3 gram')\n",
    "plt.xlabel('Häufigkeit')"
   ]
  }
 ],
 "metadata": {
  "celltoolbar": "Raw Cell Format",
  "kernelspec": {
   "display_name": "Python 3",
   "language": "python",
   "name": "python3"
  },
  "language_info": {
   "codemirror_mode": {
    "name": "ipython",
    "version": 3
   },
   "file_extension": ".py",
   "mimetype": "text/x-python",
   "name": "python",
   "nbconvert_exporter": "python",
   "pygments_lexer": "ipython3",
   "version": "3.8.3"
  }
 },
 "nbformat": 4,
 "nbformat_minor": 4
}
